{
 "cells": [
  {
   "cell_type": "markdown",
   "id": "2f458b06",
   "metadata": {},
   "source": [
    "### Exercise 1:"
   ]
  },
  {
   "cell_type": "code",
   "execution_count": 2,
   "id": "7219634c",
   "metadata": {
    "scrolled": true
   },
   "outputs": [
    {
     "name": "stdout",
     "output_type": "stream",
     "text": [
      "Espace d'actions : Discrete(4)\n",
      "Espace d'observations : Discrete(16)\n",
      "Action : 2, Observation : 4, Reward : 0.0\n",
      "Action : 1, Observation : 5, Reward : 0.0\n",
      "Action : 1, Observation : 5, Reward : 0\n",
      "Action : 2, Observation : 5, Reward : 0\n",
      "Action : 1, Observation : 5, Reward : 0\n",
      "Action : 2, Observation : 5, Reward : 0\n",
      "Action : 0, Observation : 5, Reward : 0\n",
      "Action : 3, Observation : 5, Reward : 0\n",
      "Action : 3, Observation : 5, Reward : 0\n",
      "Action : 0, Observation : 5, Reward : 0\n"
     ]
    }
   ],
   "source": [
    "import gymnasium as gym\n",
    "import numpy as np\n",
    "\n",
    "env = gym.make(\"FrozenLake-v1\", is_slippery=True)\n",
    "\n",
    "env.reset()\n",
    "\n",
    "print(f\"Espace d'actions : {env.action_space}\")\n",
    "print(f\"Espace d'observations : {env.observation_space}\")\n",
    "\n",
    "for _ in range(10):\n",
    "    action = env.action_space.sample()\n",
    "    observation, reward, done, _, _ = env.step(action)\n",
    "    print(f\"Action : {action}, Observation : {observation}, Reward : {reward}\")"
   ]
  },
  {
   "cell_type": "markdown",
   "id": "865266e5",
   "metadata": {},
   "source": [
    "### Exercise 2:"
   ]
  },
  {
   "cell_type": "code",
   "execution_count": 4,
   "id": "210736ad",
   "metadata": {},
   "outputs": [
    {
     "name": "stdout",
     "output_type": "stream",
     "text": [
      "Q-Table initialise:\n",
      "[[0. 0. 0. 0.]\n",
      " [0. 0. 0. 0.]\n",
      " [0. 0. 0. 0.]\n",
      " [0. 0. 0. 0.]\n",
      " [0. 0. 0. 0.]\n",
      " [0. 0. 0. 0.]\n",
      " [0. 0. 0. 0.]\n",
      " [0. 0. 0. 0.]\n",
      " [0. 0. 0. 0.]\n",
      " [0. 0. 0. 0.]\n",
      " [0. 0. 0. 0.]\n",
      " [0. 0. 0. 0.]\n",
      " [0. 0. 0. 0.]\n",
      " [0. 0. 0. 0.]\n",
      " [0. 0. 0. 0.]\n",
      " [0. 0. 0. 0.]]\n"
     ]
    }
   ],
   "source": [
    "q_table = np.zeros((env.observation_space.n, env.action_space.n))\n",
    "\n",
    "print(\"Q-Table initialise:\")\n",
    "print(q_table)"
   ]
  },
  {
   "cell_type": "markdown",
   "id": "820e8a35",
   "metadata": {},
   "source": [
    "### Exercise 3:"
   ]
  },
  {
   "cell_type": "code",
   "execution_count": 5,
   "id": "711909db",
   "metadata": {},
   "outputs": [],
   "source": [
    "alpha = 0.1  #vitesse l'agent apprend.Valeur de 0.1 -> l'agent met à jour ses connaissances à 10%\n",
    "# de la différence entre l'ancienne et la nouvelle estimation.\n",
    "\n",
    "gamma = 0.99  # l'importance des récompenses futures.valeur de 0.99 -> l'agent valorise récompenses futures\n",
    "\n",
    "epsilon = 1.0  # Contrôle la probabilité que l'agent explore.  epsilon est à 1.0 -> l'agent explore beaucoup\n",
    "\n",
    "epsilon_decay = 0.995  # Réduit progressivement epsilon après chaque épisode\n",
    "\n",
    "num_episodes = 5000  # Nombre total de fois que l'agent va jouer dans l'environnement pour apprendre\n",
    "\n",
    "for episode in range(num_episodes): # exécute l'apprentissage sur un nombre fixe d'épisodes (num_episodes).\n",
    "    state, _ = env.reset() # réinitialise l'environnement\n",
    "    done = False\n",
    "    \n",
    "    while not done:\n",
    "        # choisir l'action\n",
    "        if np.random.rand() < epsilon:\n",
    "            action = env.action_space.sample()  # choisit une action aléatoire (exploration)\n",
    "        else:\n",
    "            # choisit l'action avec la valeur Q la plus élevée pour l'état actuel (exploitation)\n",
    "            action = np.argmax(q_table[state])\n",
    "        \n",
    "        # exécute l'action choisie par l'agent et observe le nouvel état, la récompense\n",
    "        next_state, reward, done, _, _ = env.step(action)\n",
    "        \n",
    "        # met à jour la Q-Table avec la formule de Q-Learning.Combine la récompense immédiate et la récompense future estimée pour améliorer les décisions de l'agent\n",
    "        q_table[state, action] = q_table[state, action] + alpha * (reward + gamma * np.max(q_table[next_state]) - q_table[state, action])\n",
    "        \n",
    "        # L'agent passe à l'état suivant pour continuer à explorer ou exploiter l'environnement\n",
    "        state = next_state\n",
    "    \n",
    "    # epsilon est réduit pour que l'agent explore moins et exploite plus au fur et à mesure qu'il apprend\n",
    "    epsilon *= epsilon_decay"
   ]
  },
  {
   "cell_type": "code",
   "execution_count": 6,
   "id": "86c8a73a",
   "metadata": {},
   "outputs": [
    {
     "name": "stdout",
     "output_type": "stream",
     "text": [
      "[[4.53060828e-01 3.62493811e-01 3.62411220e-01 3.63306112e-01]\n",
      " [6.29494663e-03 3.35465242e-02 4.99766808e-02 3.96763595e-01]\n",
      " [3.46923725e-01 5.53584074e-02 6.05847975e-02 1.80739355e-02]\n",
      " [1.47192259e-07 4.01536966e-10 1.12178777e-08 1.07952092e-01]\n",
      " [4.62325154e-01 2.15215253e-01 2.51168171e-01 1.76359536e-01]\n",
      " [0.00000000e+00 0.00000000e+00 0.00000000e+00 0.00000000e+00]\n",
      " [6.74336586e-02 9.16010432e-02 2.62636793e-01 2.13510393e-02]\n",
      " [0.00000000e+00 0.00000000e+00 0.00000000e+00 0.00000000e+00]\n",
      " [2.75890364e-01 2.67624889e-01 2.13034272e-01 4.84436415e-01]\n",
      " [2.82424219e-01 5.44371478e-01 4.01370623e-01 2.29579722e-01]\n",
      " [5.36636764e-01 1.33531274e-01 1.92413983e-01 8.77381576e-02]\n",
      " [0.00000000e+00 0.00000000e+00 0.00000000e+00 0.00000000e+00]\n",
      " [0.00000000e+00 0.00000000e+00 0.00000000e+00 0.00000000e+00]\n",
      " [3.37560209e-01 3.20346491e-01 5.93772700e-01 3.56205992e-01]\n",
      " [3.03326579e-01 3.87463459e-01 7.64179477e-01 5.28765716e-01]\n",
      " [0.00000000e+00 0.00000000e+00 0.00000000e+00 0.00000000e+00]]\n"
     ]
    }
   ],
   "source": [
    "print(q_table)"
   ]
  },
  {
   "cell_type": "markdown",
   "id": "886aa979",
   "metadata": {},
   "source": [
    "### Exercise 4:"
   ]
  },
  {
   "cell_type": "code",
   "execution_count": 7,
   "id": "b0abf47a",
   "metadata": {},
   "outputs": [
    {
     "name": "stdout",
     "output_type": "stream",
     "text": [
      "Success rate: 68.0%\n"
     ]
    }
   ],
   "source": [
    "num_test_episodes = 100 # Nombre d'épisodes de test que l'agent va jouer\n",
    "successes = 0 # Compteur pour n fois où l'agent réussit à atteindre l'objectif.\n",
    "\n",
    "for _ in range(num_test_episodes):\n",
    "    state, _ = env.reset()\n",
    "    done = False\n",
    "    \n",
    "    while not done:\n",
    "        # L'agent choisit toujours l'action optimale en fonction de la Q-Table.Ne fait plus d'exploration, seulement de l'exploitation\n",
    "        action = np.argmax(q_table[state])  \n",
    "        \n",
    "        next_state, reward, done, _, _ = env.step(action)  # exécute l'action choisie par l'agent\n",
    "        \n",
    "        state = next_state # passe à l'état suivant pour continuer à jouer jusqu'à la fin de l'épisode\n",
    "    if reward == 1:\n",
    "        successes += 1 # augmenter le compteur si la recompense est 1\n",
    "\n",
    "success_rate = successes / num_test_episodes # calculer le pourcentage de reussite\n",
    "print(f\"Success rate: {success_rate * 100}%\")"
   ]
  },
  {
   "cell_type": "code",
   "execution_count": null,
   "id": "c8cfa156",
   "metadata": {},
   "outputs": [],
   "source": []
  }
 ],
 "metadata": {
  "kernelspec": {
   "display_name": "Python 3 (ipykernel)",
   "language": "python",
   "name": "python3"
  },
  "language_info": {
   "codemirror_mode": {
    "name": "ipython",
    "version": 3
   },
   "file_extension": ".py",
   "mimetype": "text/x-python",
   "name": "python",
   "nbconvert_exporter": "python",
   "pygments_lexer": "ipython3",
   "version": "3.9.13"
  }
 },
 "nbformat": 4,
 "nbformat_minor": 5
}
